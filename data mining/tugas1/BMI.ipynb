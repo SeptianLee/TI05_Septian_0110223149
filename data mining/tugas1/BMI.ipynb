import pandas as pd

df = pd.read_csv("C:/xampp/htdocs/tian3/data mining/tugas1/BMI_data.csv")
df.head()